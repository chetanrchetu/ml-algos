{
 "cells": [
  {
   "cell_type": "code",
   "execution_count": 221,
   "metadata": {},
   "outputs": [],
   "source": [
    "import numpy as np\n",
    "from sklearn.datasets import load_iris as d\n",
    "from sklearn.model_selection import train_test_split as tts \n",
    "import warnings \n",
    "warnings.filterwarnings(\"ignore\")\n"
   ]
  },
  {
   "cell_type": "code",
   "execution_count": 222,
   "metadata": {},
   "outputs": [],
   "source": [
    "class LogisticRegressionSGD:\n",
    "    def __init__(self,eta=0.1,n_iters=1000):\n",
    "        self.eta=eta \n",
    "        self.n_iters=n_iters\n",
    "\n",
    "\n",
    "    def fit(self,X,y):\n",
    "        n_sample,n_features=X.shape\n",
    "\n",
    "        rgen=np.random.RandomState(seed=1)\n",
    "        self.w_=rgen.normal(loc=0.0,scale=0.1,\n",
    "                            size=n_features)\n",
    "        \n",
    "        self.b_=rgen.normal(loc=0.0,scale=0.1,\n",
    "                            size=1)\n",
    "        \n",
    "        # self.w_=np.random.normal(loc=0.0,scale=0.1,\n",
    "        #                          size=n_features)\n",
    "        \n",
    "        # self.b_=np.random.normal(loc=0.0,scale=0.1,\n",
    "        #                          size=1)\n",
    "\n",
    "        for _ in range(self.n_iters):\n",
    "            \n",
    "\n",
    "                y_pred=self.activation(self.net_input(X))\n",
    "\n",
    "                error=(y_pred-y)\n",
    "\n",
    "                self.update(error,X)\n",
    "\n",
    "\n",
    "        return self \n",
    "    \n",
    "\n",
    "\n",
    "    def net_input(self,x):\n",
    "        return np.dot(x,self.w_)+self.b_ \n",
    "    \n",
    "\n",
    "    def activation(self,z):\n",
    "        return 1/(1+np.exp(-z))\n",
    "    \n",
    "\n",
    "    def update(self,error,x):\n",
    "        \n",
    "        self.w_=self.w_+(-self.eta*np.dot(x.T,error))\n",
    "        self.b_=self.b_+(-self.eta*sum(error))\n",
    "\n",
    "\n",
    "    def predict(self,X):\n",
    "        return np.where(self.activation(self.net_input(X))>=0.5,1,0)\n",
    "    \n",
    "    \n",
    "\n"
   ]
  },
  {
   "cell_type": "code",
   "execution_count": 223,
   "metadata": {},
   "outputs": [],
   "source": [
    "X,y=d().data,d().target\n",
    "y=np.where(y>1,0,1)\n",
    "X_train,X_test,y_train,y_test=tts(X,y,test_size=0.2,random_state=1234)"
   ]
  },
  {
   "cell_type": "code",
   "execution_count": 224,
   "metadata": {},
   "outputs": [
    {
     "data": {
      "text/plain": [
       "<__main__.LogisticRegressionSGD at 0x2194a902f50>"
      ]
     },
     "execution_count": 224,
     "metadata": {},
     "output_type": "execute_result"
    }
   ],
   "source": [
    "model=LogisticRegressionSGD(n_iters=100,eta=0.1)\n",
    "model.fit(X_train,y_train)"
   ]
  },
  {
   "cell_type": "code",
   "execution_count": 225,
   "metadata": {},
   "outputs": [],
   "source": [
    "def acc(y_pred,y):\n",
    "    return np.sum(y_pred==y)/len(y)"
   ]
  },
  {
   "cell_type": "code",
   "execution_count": 226,
   "metadata": {},
   "outputs": [],
   "source": [
    "y_pred=model.predict(X_test)\n",
    "\n"
   ]
  },
  {
   "cell_type": "code",
   "execution_count": 227,
   "metadata": {},
   "outputs": [
    {
     "data": {
      "text/plain": [
       "96.66666666666667"
      ]
     },
     "execution_count": 227,
     "metadata": {},
     "output_type": "execute_result"
    }
   ],
   "source": [
    "acc(y_pred,y_test)*100"
   ]
  },
  {
   "cell_type": "code",
   "execution_count": 228,
   "metadata": {},
   "outputs": [
    {
     "data": {
      "text/plain": [
       "array([1, 1, 0, 1, 1, 1, 1, 1, 1, 0, 1, 1, 0, 1, 1, 1, 0, 1, 0, 1, 1, 1,\n",
       "       1, 1, 0, 1, 1, 1, 0, 1])"
      ]
     },
     "execution_count": 228,
     "metadata": {},
     "output_type": "execute_result"
    }
   ],
   "source": [
    "y_pred"
   ]
  },
  {
   "cell_type": "code",
   "execution_count": 229,
   "metadata": {},
   "outputs": [
    {
     "data": {
      "text/plain": [
       "array([1, 1, 0, 1, 1, 1, 1, 1, 1, 0, 1, 1, 0, 1, 1, 1, 0, 1, 0, 1, 1, 1,\n",
       "       1, 1, 0, 1, 0, 1, 0, 1])"
      ]
     },
     "execution_count": 229,
     "metadata": {},
     "output_type": "execute_result"
    }
   ],
   "source": [
    "y_test"
   ]
  },
  {
   "cell_type": "code",
   "execution_count": null,
   "metadata": {},
   "outputs": [],
   "source": []
  },
  {
   "cell_type": "code",
   "execution_count": null,
   "metadata": {},
   "outputs": [],
   "source": []
  }
 ],
 "metadata": {
  "kernelspec": {
   "display_name": "Python 3",
   "language": "python",
   "name": "python3"
  },
  "language_info": {
   "codemirror_mode": {
    "name": "ipython",
    "version": 3
   },
   "file_extension": ".py",
   "mimetype": "text/x-python",
   "name": "python",
   "nbconvert_exporter": "python",
   "pygments_lexer": "ipython3",
   "version": "3.11.4"
  },
  "orig_nbformat": 4
 },
 "nbformat": 4,
 "nbformat_minor": 2
}
