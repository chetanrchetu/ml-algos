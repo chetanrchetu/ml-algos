{
 "cells": [
  {
   "cell_type": "code",
   "execution_count": 61,
   "metadata": {},
   "outputs": [],
   "source": [
    "import numpy as np \n",
    "import pandas as pd\n",
    "import sklearn \n",
    "from sklearn.datasets import load_iris  as li \n",
    "from sklearn.metrics import accuracy_score \n",
    "from sklearn.preprocessing import StandardScaler \n",
    "from itertools import combinations\n",
    "from sklearn.model_selection import train_test_split "
   ]
  },
  {
   "cell_type": "code",
   "execution_count": 62,
   "metadata": {},
   "outputs": [],
   "source": [
    "class SBS:\n",
    "    def __init__(self,k_features=2,estimator=None):\n",
    "        self.k_features=k_features \n",
    "        self.scoring=accuracy_score\n",
    "        self.estimator=estimator\n",
    "    \n",
    "    def fit(self,X,y):\n",
    "        n_sample,n_features=X.shape \n",
    "        dim=n_features \n",
    "        \n",
    "        X_train,X_test,y_train,y_test=train_test_split(X,y,test_size=0.2,random_state=1)\n",
    "        self.indices_=tuple(range(dim))\n",
    "        self.subsets_=[self.indices_]\n",
    "\n",
    "        self.scores_=[]\n",
    "        score=self.calc_score(X_train,y_train,X_test,y_test,self.indices_)\n",
    "        self.scores_.append(score)\n",
    "\n",
    "\n",
    "        while dim>self.k_features:\n",
    "            scores=[]\n",
    "            subsets=[]\n",
    "            \n",
    "            for p in combinations(self.indices_,r=dim-1):\n",
    "                \n",
    "                score=self.calc_score(X_train,y_train,X_test,y_test,p)\n",
    "                subsets.append(p)\n",
    "                scores.append(score)\n",
    "\n",
    "\n",
    "            best=np.argmax(scores)\n",
    "            self.indices_=subsets[best]\n",
    "            self.subsets_.append(subsets[best])\n",
    "\n",
    "            dim=dim-1 \n",
    "\n",
    "            self.scores_.append(scores[best])\n",
    "\n",
    "        \n",
    "        self.k_feature_score=self.scores_[-1]\n",
    "\n",
    "        return self\n",
    "    \n",
    "\n",
    "    def transform(self,X):\n",
    "        return X[:,self.indices_]\n",
    "    \n",
    "\n",
    "\n",
    "    def calc_score(self,X_train,y_train,X_test,y_test,p):\n",
    "        self.estimator.fit(X_train[:,p],y_train)\n",
    "        score=self.estimator.score(X_test[:,p],y_test)\n",
    "\n",
    "        return score\n"
   ]
  },
  {
   "cell_type": "code",
   "execution_count": 63,
   "metadata": {},
   "outputs": [],
   "source": [
    "X,y=li().data,li().target \n",
    "X_train,X_test,y_train,y_test=train_test_split(X,y,test_size=0.2,random_state=1)\n",
    "sc=StandardScaler()\n",
    "X_train_std=sc.fit_transform(X_train)\n",
    "X_test_std=sc.transform(X_test)"
   ]
  },
  {
   "cell_type": "code",
   "execution_count": 64,
   "metadata": {},
   "outputs": [
    {
     "data": {
      "text/plain": [
       "array([1, 2, 1, 2, 2, 0, 1, 0, 1, 2, 2, 0, 2, 2, 1, 2, 0, 0, 0, 1, 0, 0,\n",
       "       2, 2, 2, 2, 2, 1, 2, 1, 0, 2, 2, 0, 0, 2, 0, 2, 2, 1, 1, 2, 2, 0,\n",
       "       1, 1, 2, 1, 2, 1, 0, 0, 0, 2, 0, 1, 2, 2, 0, 0, 1, 0, 2, 1, 2, 2,\n",
       "       1, 2, 2, 1, 0, 1, 0, 1, 1, 0, 1, 0, 0, 2, 2, 2, 0, 0, 1, 0, 2, 0,\n",
       "       2, 2, 0, 2, 0, 1, 0, 1, 1, 0, 0, 1, 0, 1, 1, 0, 1, 1, 1, 1, 2, 0,\n",
       "       0, 2, 1, 2, 1, 2, 2, 1, 2, 0])"
      ]
     },
     "execution_count": 64,
     "metadata": {},
     "output_type": "execute_result"
    }
   ],
   "source": [
    "y_train"
   ]
  },
  {
   "cell_type": "code",
   "execution_count": 65,
   "metadata": {},
   "outputs": [
    {
     "data": {
      "text/plain": [
       "<__main__.SBS at 0x22f1abb4bd0>"
      ]
     },
     "execution_count": 65,
     "metadata": {},
     "output_type": "execute_result"
    }
   ],
   "source": [
    "from sklearn.linear_model import LogisticRegression\n",
    "lr=LogisticRegression(C=10,solver='lbfgs',multi_class='ovr')\n",
    "sbs=SBS(estimator=lr,k_features=1)\n",
    "sbs.fit(X_train_std,y_train)"
   ]
  },
  {
   "cell_type": "code",
   "execution_count": 66,
   "metadata": {},
   "outputs": [
    {
     "data": {
      "text/plain": [
       "array([[ 0.31553662,  0.44767531],\n",
       "       [ 2.2449325 ,  1.29769171],\n",
       "       [-0.2873996 ,  0.05100098],\n",
       "       [ 0.67729835,  1.01435291],\n",
       "       [-0.04622511,  0.73101411],\n",
       "       [-0.64916132, -1.30902526],\n",
       "       [-0.40798684,  0.10766874],\n",
       "       [-0.76974857, -1.36569302],\n",
       "       [ 0.79788559,  0.44767531],\n",
       "       [ 1.03906007,  1.12768843],\n",
       "       [ 1.15964732,  0.95768515],\n",
       "       [-0.89033581, -1.36569302],\n",
       "       [ 0.19494938,  0.67434635],\n",
       "       [ 0.5567111 ,  1.01435291],\n",
       "       [ 0.91847283,  0.44767531],\n",
       "       [ 2.2449325 ,  1.75103379],\n",
       "       [-0.16681235, -1.19568974],\n",
       "       [-1.01092305, -1.36569302],\n",
       "       [-1.25209754, -1.36569302],\n",
       "       [-0.76974857,  0.05100098],\n",
       "       [-0.89033581, -1.30902526],\n",
       "       [-0.40798684, -1.42236078],\n",
       "       [ 2.2449325 ,  1.63769827],\n",
       "       [ 1.28023456,  0.90101739],\n",
       "       [ 1.76258353,  1.41102723],\n",
       "       [ 0.67729835,  1.01435291],\n",
       "       [ 0.43612386,  0.56101083],\n",
       "       [ 0.19494938,  0.39100755],\n",
       "       [ 2.2449325 ,  1.63769827],\n",
       "       [-0.16681235,  0.22100426],\n",
       "       [-1.25209754, -1.2523575 ],\n",
       "       [-0.16681235,  0.67434635],\n",
       "       [ 0.5567111 ,  0.61767859],\n",
       "       [-1.25209754, -1.36569302],\n",
       "       [-1.37268478, -1.42236078],\n",
       "       [ 0.79788559,  1.12768843],\n",
       "       [-1.49327202, -1.36569302],\n",
       "       [ 0.31553662,  0.61767859],\n",
       "       [ 0.79788559,  0.73101411],\n",
       "       [ 1.03906007,  0.33433978],\n",
       "       [-0.16681235,  0.39100755],\n",
       "       [ 1.03906007,  1.07102067],\n",
       "       [ 0.19494938,  0.56101083],\n",
       "       [-0.89033581, -1.2523575 ],\n",
       "       [ 0.19494938,  0.10766874],\n",
       "       [ 0.67729835,  0.27767202],\n",
       "       [ 0.79788559,  0.95768515],\n",
       "       [-1.01092305, -0.28900558],\n",
       "       [ 0.5567111 ,  1.24102395],\n",
       "       [-0.40798684,  0.10766874],\n",
       "       [-0.52857408, -1.30902526],\n",
       "       [-1.13151029, -1.30902526],\n",
       "       [-0.76974857, -1.30902526],\n",
       "       [ 1.03906007,  1.07102067],\n",
       "       [-1.73444651, -1.42236078],\n",
       "       [ 0.19494938,  0.73101411],\n",
       "       [ 0.67729835,  0.84434963],\n",
       "       [ 0.07436213,  0.73101411],\n",
       "       [-0.76974857, -1.30902526],\n",
       "       [-0.89033581, -1.19568974],\n",
       "       [-0.04622511,  0.1643365 ],\n",
       "       [-1.13151029, -1.30902526],\n",
       "       [ 1.88317077,  1.29769171],\n",
       "       [ 0.43612386,  0.27767202],\n",
       "       [ 2.12434526,  1.58103051],\n",
       "       [ 1.03906007,  0.78768187],\n",
       "       [ 0.5567111 ,  0.33433978],\n",
       "       [ 0.43612386,  0.90101739],\n",
       "       [ 1.64199629,  1.29769171],\n",
       "       [-0.2873996 , -0.1190023 ],\n",
       "       [-0.16681235, -1.30902526],\n",
       "       [-0.04622511,  0.05100098],\n",
       "       [-1.61385927, -1.42236078],\n",
       "       [-0.40798684, -0.00566678],\n",
       "       [ 1.28023456,  0.61767859],\n",
       "       [-1.01092305, -1.2523575 ],\n",
       "       [ 1.15964732,  0.56101083],\n",
       "       [-1.01092305, -1.2523575 ],\n",
       "       [-1.25209754, -1.08235422],\n",
       "       [ 0.5567111 ,  1.01435291],\n",
       "       [-0.2873996 ,  0.61767859],\n",
       "       [ 1.15964732,  1.18435619],\n",
       "       [-1.01092305, -1.36569302],\n",
       "       [-0.89033581, -1.30902526],\n",
       "       [ 0.07436213,  0.56101083],\n",
       "       [-1.49327202, -1.30902526],\n",
       "       [-0.04622511,  0.73101411],\n",
       "       [-1.25209754, -1.2523575 ],\n",
       "       [ 0.79788559,  0.78768187],\n",
       "       [-1.13151029,  0.39100755],\n",
       "       [-1.49327202, -1.36569302],\n",
       "       [ 0.67729835,  0.84434963],\n",
       "       [-1.85503375, -1.5356963 ],\n",
       "       [-0.2873996 ,  0.1643365 ],\n",
       "       [-1.73444651, -1.36569302],\n",
       "       [-0.40798684, -0.06233454],\n",
       "       [-1.01092305, -0.17567006],\n",
       "       [-0.89033581, -1.36569302],\n",
       "       [-1.13151029, -1.36569302],\n",
       "       [-1.13151029, -0.28900558],\n",
       "       [-1.49327202, -1.59236406],\n",
       "       [ 0.07436213,  0.22100426],\n",
       "       [ 0.31553662,  0.50434307],\n",
       "       [-1.01092305, -1.30902526],\n",
       "       [ 1.03906007,  0.50434307],\n",
       "       [-0.16681235,  0.22100426],\n",
       "       [ 0.43612386,  0.39100755],\n",
       "       [ 1.4008218 ,  0.50434307],\n",
       "       [-0.04622511,  0.73101411],\n",
       "       [-0.52857408, -1.19568974],\n",
       "       [-1.01092305, -1.2523575 ],\n",
       "       [ 0.31553662,  1.01435291],\n",
       "       [ 0.31553662,  0.10766874],\n",
       "       [ 1.64199629,  1.12768843],\n",
       "       [-0.16681235, -0.17567006],\n",
       "       [ 0.5567111 ,  0.73101411],\n",
       "       [ 0.67729835,  0.95768515],\n",
       "       [ 0.5567111 ,  0.61767859],\n",
       "       [ 1.03906007,  1.01435291],\n",
       "       [-1.13151029, -1.36569302]])"
      ]
     },
     "execution_count": 66,
     "metadata": {},
     "output_type": "execute_result"
    }
   ],
   "source": [
    "best_k_feature=sbs.subsets_[2]\n",
    "X_train_std[:,best_k_feature]"
   ]
  },
  {
   "cell_type": "code",
   "execution_count": 67,
   "metadata": {},
   "outputs": [
    {
     "data": {
      "text/plain": [
       "[(0, 1, 2, 3), (0, 1, 2), (0, 2), (2,)]"
      ]
     },
     "execution_count": 67,
     "metadata": {},
     "output_type": "execute_result"
    }
   ],
   "source": [
    "sbs.subsets_"
   ]
  },
  {
   "cell_type": "code",
   "execution_count": null,
   "metadata": {},
   "outputs": [],
   "source": []
  }
 ],
 "metadata": {
  "kernelspec": {
   "display_name": "base",
   "language": "python",
   "name": "python3"
  },
  "language_info": {
   "codemirror_mode": {
    "name": "ipython",
    "version": 3
   },
   "file_extension": ".py",
   "mimetype": "text/x-python",
   "name": "python",
   "nbconvert_exporter": "python",
   "pygments_lexer": "ipython3",
   "version": "3.11.4"
  }
 },
 "nbformat": 4,
 "nbformat_minor": 2
}
