{
 "cells": [
  {
   "cell_type": "code",
   "execution_count": 124,
   "metadata": {},
   "outputs": [],
   "source": [
    "import numpy as np \n",
    "import matplotlib.pyplot as plt \n",
    "from matplotlib.colors import ListedColormap"
   ]
  },
  {
   "cell_type": "code",
   "execution_count": 125,
   "metadata": {},
   "outputs": [],
   "source": [
    "def plotting(X,y,clf=None,resolution=0.2,ax=None):\n",
    "    marker=['s','o']\n",
    "    color=['red','blue']\n",
    "    cmap=ListedColormap(color[:len(np.unique(y))])\n",
    "\n",
    "    x1_min,x1_max=X[:,0].min() ,X[:,0].max() \n",
    "    x2_min,x2_max=X[:,1].min(), X[:,1].max() \n",
    "\n",
    "\n",
    "    x1,x2=np.arange(x1_min,x1_max,resolution),np.arange(x2_min,x2_max,resolution)\n",
    "\n",
    "    xx1,xx2=np.meshgrid(x1,x2)\n",
    "\n",
    "    Z=clf.predict(np.column_stack([xx1.flatten(),xx2.flatten()]))\n",
    "    Z=Z.reshape(xx1.shape)\n",
    "\n",
    "    ax.contourf(xx1,xx2,Z,cmap=cmap,alpha=0.2)\n",
    "\n",
    "    ax.set_xticks(x1)\n",
    "    ax.set_yticks(x2)\n",
    "\n",
    "    for idx,c in enumerate(np.unique(y)):\n",
    "        ax.scatter(X[y==c,0],\n",
    "                   X[y==c,1],\n",
    "                   marker=marker[idx],\n",
    "                   color=color[idx])"
   ]
  },
  {
   "cell_type": "code",
   "execution_count": 126,
   "metadata": {},
   "outputs": [],
   "source": [
    "import numpy as np\n",
    "from sklearn.datasets import load_iris as d\n",
    "from sklearn.model_selection import train_test_split as tts \n",
    "import warnings \n",
    "warnings.filterwarnings(\"ignore\")\n"
   ]
  },
  {
   "cell_type": "code",
   "execution_count": 127,
   "metadata": {},
   "outputs": [],
   "source": [
    "class LogisticRegressionSGD:\n",
    "    def __init__(self,eta=0.1,n_iters=100):\n",
    "        self.eta=eta \n",
    "        self.n_iters=n_iters \n",
    "\n",
    "\n",
    "    def fit(self,X,y):\n",
    "        n_samples,n_features=X.shape \n",
    "\n",
    "        rgen=np.random.RandomState(seed=1)\n",
    "        self.w_=rgen.normal(loc=0.0,scale=0.1,\n",
    "                                 size=n_features)\n",
    "        self.b_=rgen.normal(loc=0.0,scale=0.1,\n",
    "                            size=1)\n",
    "        \n",
    "\n",
    "        for _ in range(self.n_iters):\n",
    "                for idx,x in enumerate(X):\n",
    "                    x=np.array([x])\n",
    "                    y_pred=self.activation(self.net_input(x))\n",
    "\n",
    "                    error=(y_pred-y[idx]) \n",
    "\n",
    "                    self.update(error,x)\n",
    "\n",
    "\n",
    "\n",
    "        return self\n",
    "    \n",
    "\n",
    "    def net_input(self,x):\n",
    "        return np.dot(x,self.w_)+self.b_ \n",
    "    \n",
    "\n",
    "    def activation(self,z):\n",
    "        return 1/(1+np.exp(-z))\n",
    "    \n",
    "    def update(self,error,x):\n",
    "    \n",
    "        self.w_+=(-self.eta*(x.T.dot(error)))\n",
    "        self.b_+=(-self.eta*np.sum(error))\n",
    "    \n",
    "    def predict(self,X):\n",
    "        return np.where(self.activation(self.net_input(X))>0.5,1,0)"
   ]
  },
  {
   "cell_type": "code",
   "execution_count": 128,
   "metadata": {},
   "outputs": [],
   "source": [
    "X,y=d().data[:,:2],d().target\n",
    "y=np.where(y>1,0,1)\n",
    "X_train,X_test,y_train,y_test=tts(X,y,test_size=0.2,random_state=1234)"
   ]
  },
  {
   "cell_type": "code",
   "execution_count": null,
   "metadata": {},
   "outputs": [],
   "source": []
  },
  {
   "cell_type": "code",
   "execution_count": 129,
   "metadata": {},
   "outputs": [
    {
     "data": {
      "text/plain": [
       "<__main__.LogisticRegressionSGD at 0x165f8d09610>"
      ]
     },
     "execution_count": 129,
     "metadata": {},
     "output_type": "execute_result"
    }
   ],
   "source": [
    "model=LogisticRegressionSGD(n_iters=100,eta=0.1)\n",
    "model.fit(X_train,y_train)"
   ]
  },
  {
   "cell_type": "code",
   "execution_count": 130,
   "metadata": {},
   "outputs": [],
   "source": [
    "y_pred=model.predict(X_test)\n",
    "\n"
   ]
  },
  {
   "cell_type": "code",
   "execution_count": 131,
   "metadata": {},
   "outputs": [
    {
     "data": {
      "text/plain": [
       "(30, 2)"
      ]
     },
     "execution_count": 131,
     "metadata": {},
     "output_type": "execute_result"
    }
   ],
   "source": [
    "X_test.shape"
   ]
  },
  {
   "cell_type": "code",
   "execution_count": 132,
   "metadata": {},
   "outputs": [
    {
     "data": {
      "image/png": "[encoded data removed]",
      "text/plain": [
       "<Figure size 500x300 with 1 Axes>"
      ]
     },
     "metadata": {},
     "output_type": "display_data"
    }
   ],
   "source": [
    "fig,ax=plt.subplots(nrows=1,ncols=1,figsize=(5,3))\n",
    "plotting(X=X_train,y=y_train,clf=model,ax=ax)\n"
   ]
  },
  {
   "cell_type": "code",
   "execution_count": 133,
   "metadata": {},
   "outputs": [],
   "source": [
    "def acc(y,y_pred):\n",
    "    return np.sum(y==y_pred)/len(y)"
   ]
  },
  {
   "cell_type": "code",
   "execution_count": 134,
   "metadata": {},
   "outputs": [
    {
     "data": {
      "text/plain": [
       "0.8666666666666667"
      ]
     },
     "execution_count": 134,
     "metadata": {},
     "output_type": "execute_result"
    }
   ],
   "source": [
    "acc(y_test,y_pred)"
   ]
  },
  {
   "cell_type": "code",
   "execution_count": null,
   "metadata": {},
   "outputs": [],
   "source": []
  }
 ],
 "metadata": {
  "kernelspec": {
   "display_name": "machine_learning",
   "language": "python",
   "name": "python3"
  },
  "language_info": {
   "codemirror_mode": {
    "name": "ipython",
    "version": 3
   },
   "file_extension": ".py",
   "mimetype": "text/x-python",
   "name": "python",
   "nbconvert_exporter": "python",
   "pygments_lexer": "ipython3",
   "version": "3.11.4"
  }
 },
 "nbformat": 4,
 "nbformat_minor": 2
}
