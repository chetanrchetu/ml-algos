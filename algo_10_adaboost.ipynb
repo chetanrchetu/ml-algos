{
 "cells": [
  {
   "cell_type": "code",
   "execution_count": 41,
   "metadata": {},
   "outputs": [],
   "source": [
    "import numpy as np"
   ]
  },
  {
   "cell_type": "code",
   "execution_count": 42,
   "metadata": {},
   "outputs": [],
   "source": [
    "class DecisionStump:\n",
    "    def __init__(self,):\n",
    "        self.feature=None \n",
    "        self.threshold=None \n",
    "        self.polarity=None \n",
    "        self.alpha=None \n",
    "\n",
    "    def predict(self,X):\n",
    "        n_samples,n_features=X.shape\n",
    "\n",
    "        X_c=X[:,self.feature]\n",
    "\n",
    "\n",
    "        prediction=np.ones(shape=(n_samples))\n",
    "\n",
    "        if self.polarity==1:\n",
    "            prediction[X_c<self.threshold]=-1\n",
    "        \n",
    "        else:\n",
    "            prediction[X_c>self.threshold]=-1\n",
    "\n",
    "        return prediction"
   ]
  },
  {
   "cell_type": "code",
   "execution_count": 43,
   "metadata": {},
   "outputs": [],
   "source": [
    "class AdaBoost:\n",
    "    def __init__(self,n_clf=5):\n",
    "        self.n_clf=n_clf \n",
    "        self.clfs=[]\n",
    "\n",
    "    def fit(self,X,y):\n",
    "        n_samples,n_features=X.shape\n",
    "\n",
    "        w=np.full(shape=(n_samples),fill_value=(1/n_samples))\n",
    "\n",
    "        for _ in range(self.n_clf):\n",
    "            clf=DecisionStump()\n",
    "\n",
    "            min_error=float('inf')\n",
    "\n",
    "            for feat in range(n_features):\n",
    "                X_c=X[:,feat]\n",
    "\n",
    "                possible_threshold=np.unique(X_c)\n",
    "\n",
    "                for threshold in possible_threshold:\n",
    "                    p=1 \n",
    "\n",
    "                    prediction=np.ones(shape=(n_samples))\n",
    "\n",
    "                    prediction[X_c<threshold]=-1 \n",
    "\n",
    "                    missclassified_weight=w[prediction!=y]\n",
    "\n",
    "                    error=sum(missclassified_weight)\n",
    "\n",
    "                    if error>0.5:\n",
    "                        p=-1 \n",
    "                        error=1-error\n",
    "\n",
    "                    if error<min_error:\n",
    "                        min_error=error \n",
    "                        clf.feature=feat \n",
    "                        clf.threshold=threshold\n",
    "                        clf.polarity=p \n",
    "\n",
    "            EPS=1e-10 \n",
    "            clf.alpha=0.5 * np.log((1+min_error)/(min_error+EPS))\n",
    "\n",
    "            y_pred=clf.predict(X)\n",
    "\n",
    "            w=w * np.exp(-clf.alpha * y * y_pred)\n",
    "\n",
    "            w=w/sum(w)\n",
    "\n",
    "            self.clfs.append(clf)\n",
    "\n",
    "        return self \n",
    "    \n",
    "\n",
    "    def predict(self,X):\n",
    "        prediction=np.array([clf.alpha * clf.predict(X)  for clf in self.clfs])\n",
    "\n",
    "        prediction=prediction.sum(axis=0)\n",
    "\n",
    "        y_pred=np.sign(prediction)\n",
    "\n",
    "        return y_pred"
   ]
  },
  {
   "cell_type": "code",
   "execution_count": 44,
   "metadata": {},
   "outputs": [],
   "source": [
    "from sklearn.datasets import load_breast_cancer as d \n",
    "from sklearn.model_selection import train_test_split as tts \n",
    "\n",
    "def acc(y_,y):\n",
    "    return np.sum(y_==y)/len(y)"
   ]
  },
  {
   "cell_type": "code",
   "execution_count": 45,
   "metadata": {},
   "outputs": [],
   "source": [
    "X,y=d().data,d().target"
   ]
  },
  {
   "cell_type": "code",
   "execution_count": 46,
   "metadata": {},
   "outputs": [],
   "source": [
    "y=np.where(y<=0,-1,1)"
   ]
  },
  {
   "cell_type": "code",
   "execution_count": 47,
   "metadata": {},
   "outputs": [],
   "source": [
    "X_train,X_test,y_train,y_test=tts(X,y,test_size=0.2,random_state=123)"
   ]
  },
  {
   "cell_type": "code",
   "execution_count": 48,
   "metadata": {},
   "outputs": [
    {
     "data": {
      "text/plain": [
       "<__main__.AdaBoost at 0x1a07c086810>"
      ]
     },
     "execution_count": 48,
     "metadata": {},
     "output_type": "execute_result"
    }
   ],
   "source": [
    "clf=AdaBoost(n_clf=5)\n",
    "# [c.alpha for c in  clf.clfs]\n",
    "\n",
    "clf.fit(X_train,y_train)\n"
   ]
  },
  {
   "cell_type": "code",
   "execution_count": 49,
   "metadata": {},
   "outputs": [
    {
     "data": {
      "text/plain": [
       "0.9736842105263158"
      ]
     },
     "execution_count": 49,
     "metadata": {},
     "output_type": "execute_result"
    }
   ],
   "source": [
    "y_pred=clf.predict(X_test)\n",
    "acc(y_pred,y_test)"
   ]
  },
  {
   "cell_type": "code",
   "execution_count": 50,
   "metadata": {},
   "outputs": [
    {
     "data": {
      "text/plain": [
       "(114,)"
      ]
     },
     "execution_count": 50,
     "metadata": {},
     "output_type": "execute_result"
    }
   ],
   "source": [
    "y_pred.shape"
   ]
  },
  {
   "cell_type": "code",
   "execution_count": 51,
   "metadata": {},
   "outputs": [
    {
     "data": {
      "text/plain": [
       "(114,)"
      ]
     },
     "execution_count": 51,
     "metadata": {},
     "output_type": "execute_result"
    }
   ],
   "source": [
    "y_test.shape"
   ]
  },
  {
   "cell_type": "code",
   "execution_count": null,
   "metadata": {},
   "outputs": [],
   "source": []
  }
 ],
 "metadata": {
  "kernelspec": {
   "display_name": "base",
   "language": "python",
   "name": "python3"
  },
  "language_info": {
   "codemirror_mode": {
    "name": "ipython",
    "version": 3
   },
   "file_extension": ".py",
   "mimetype": "text/x-python",
   "name": "python",
   "nbconvert_exporter": "python",
   "pygments_lexer": "ipython3",
   "version": "3.11.4"
  }
 },
 "nbformat": 4,
 "nbformat_minor": 2
}
