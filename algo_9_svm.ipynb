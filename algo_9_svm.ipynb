{
 "cells": [
  {
   "cell_type": "code",
   "execution_count": 427,
   "metadata": {},
   "outputs": [],
   "source": [
    "import numpy as np "
   ]
  },
  {
   "cell_type": "code",
   "execution_count": 428,
   "metadata": {},
   "outputs": [],
   "source": [
    "class SVM:\n",
    "    def __init__(self,eta=0.1,n_iters=1000,lam=0.1):\n",
    "        self.eta=eta \n",
    "        self.n_iters=n_iters \n",
    "        self.lam=lam \n",
    "\n",
    "\n",
    "    def fit(self,X,y):\n",
    "        n_sample,n_feature=X.shape\n",
    "\n",
    "        rgen=np.random.RandomState(1)\n",
    "        self.w_=rgen.normal(size=n_feature,loc=0.0,scale=0.1)\n",
    "        self.b_=rgen.normal(size=1,loc=0.0,scale=0.1)\n",
    "\n",
    "        for _ in range(self.n_iters):\n",
    "            for idx,x in enumerate(X):\n",
    "                condition=y[idx]*(np.dot(x,self.w_)-self.b_)>=1\n",
    "\n",
    "                if condition:\n",
    "                    self.w_=self.w_-(self.eta*(2*self.lam*self.w_))\n",
    "\n",
    "                else:\n",
    "                    self.w_=self.w_-(self.eta*(2*self.lam*self.w_)-np.dot(y[idx],x))\n",
    "                    self.b_=self.b_-(self.eta*y[idx])\n",
    "\n",
    "        return self \n",
    "    \n",
    "\n",
    "    def predict(self,X):\n",
    "        # print(self.w_.shape,X.shape)\n",
    "        pred=np.dot(X,self.w_)-self.b_ \n",
    "    \n",
    "        y_pred=np.sign(pred)\n",
    "\n",
    "        return y_pred\n"
   ]
  },
  {
   "cell_type": "code",
   "execution_count": 429,
   "metadata": {},
   "outputs": [],
   "source": [
    "from sklearn.datasets import load_iris as data\n",
    "from sklearn.model_selection import train_test_split as tts \n",
    "import matplotlib.pyplot as plt"
   ]
  },
  {
   "cell_type": "code",
   "execution_count": 430,
   "metadata": {},
   "outputs": [],
   "source": [
    "X,y=data().data,data().target\n",
    "y=np.where(y<=0,-1,1)\n",
    "X_train,X_test,y_train,y_test=tts(X,y,test_size=0.3,random_state=123)\n"
   ]
  },
  {
   "cell_type": "code",
   "execution_count": 431,
   "metadata": {},
   "outputs": [
    {
     "data": {
      "text/plain": [
       "<__main__.SVM at 0x1eeb1f29510>"
      ]
     },
     "execution_count": 431,
     "metadata": {},
     "output_type": "execute_result"
    }
   ],
   "source": [
    "model=SVM(n_iters=1000)\n",
    "model.fit(X_train,y_train)"
   ]
  },
  {
   "cell_type": "code",
   "execution_count": 432,
   "metadata": {},
   "outputs": [],
   "source": [
    "def acc(y_,y):\n",
    "    return np.sum(y_==y)/len(y)"
   ]
  },
  {
   "cell_type": "code",
   "execution_count": 433,
   "metadata": {},
   "outputs": [
    {
     "data": {
      "text/plain": [
       "100.0"
      ]
     },
     "execution_count": 433,
     "metadata": {},
     "output_type": "execute_result"
    }
   ],
   "source": [
    "y_pred=model.predict(X_test)\n",
    "acc(y_pred,y_test)*100"
   ]
  },
  {
   "cell_type": "code",
   "execution_count": 434,
   "metadata": {},
   "outputs": [
    {
     "data": {
      "text/plain": [
       "(array([ 1.,  1.,  1.,  1., -1.,  1.,  1., -1., -1.,  1.,  1., -1.,  1.,\n",
       "         1.,  1.,  1., -1., -1.,  1., -1., -1.,  1., -1.,  1., -1., -1.,\n",
       "        -1.,  1.,  1., -1.,  1.,  1., -1., -1.,  1.,  1.,  1., -1., -1.,\n",
       "         1.,  1., -1.,  1.,  1.,  1.]),)"
      ]
     },
     "execution_count": 434,
     "metadata": {},
     "output_type": "execute_result"
    }
   ],
   "source": [
    "y_pred,"
   ]
  },
  {
   "cell_type": "code",
   "execution_count": 435,
   "metadata": {},
   "outputs": [
    {
     "data": {
      "text/plain": [
       "array([ 1,  1,  1,  1, -1,  1,  1, -1, -1,  1,  1, -1,  1,  1,  1,  1, -1,\n",
       "       -1,  1, -1, -1,  1, -1,  1, -1, -1, -1,  1,  1, -1,  1,  1, -1, -1,\n",
       "        1,  1,  1, -1, -1,  1,  1, -1,  1,  1,  1])"
      ]
     },
     "execution_count": 435,
     "metadata": {},
     "output_type": "execute_result"
    }
   ],
   "source": [
    "y_test"
   ]
  },
  {
   "cell_type": "code",
   "execution_count": 436,
   "metadata": {},
   "outputs": [
    {
     "data": {
      "text/plain": [
       "((45,), (45,))"
      ]
     },
     "execution_count": 436,
     "metadata": {},
     "output_type": "execute_result"
    }
   ],
   "source": [
    "y_pred.shape ,y_test.shape"
   ]
  },
  {
   "cell_type": "code",
   "execution_count": null,
   "metadata": {},
   "outputs": [],
   "source": []
  }
 ],
 "metadata": {
  "kernelspec": {
   "display_name": "base",
   "language": "python",
   "name": "python3"
  },
  "language_info": {
   "codemirror_mode": {
    "name": "ipython",
    "version": 3
   },
   "file_extension": ".py",
   "mimetype": "text/x-python",
   "name": "python",
   "nbconvert_exporter": "python",
   "pygments_lexer": "ipython3",
   "version": "3.11.4"
  }
 },
 "nbformat": 4,
 "nbformat_minor": 2
}
