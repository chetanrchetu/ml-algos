{
 "cells": [
  {
   "cell_type": "code",
   "execution_count": 10,
   "metadata": {},
   "outputs": [],
   "source": [
    "from sklearn.datasets import load_iris as ds\n",
    "from sklearn.model_selection import train_test_split\n",
    "import numpy as np\n",
    "from sklearn.metrics import accuracy_score"
   ]
  },
  {
   "cell_type": "code",
   "execution_count": 11,
   "metadata": {},
   "outputs": [],
   "source": [
    "X,y=ds().data,ds().target"
   ]
  },
  {
   "cell_type": "code",
   "execution_count": 12,
   "metadata": {},
   "outputs": [
    {
     "data": {
      "text/plain": [
       "(array([[5.1, 3.5, 1.4, 0.2],\n",
       "        [4.9, 3. , 1.4, 0.2],\n",
       "        [4.7, 3.2, 1.3, 0.2],\n",
       "        [4.6, 3.1, 1.5, 0.2],\n",
       "        [5. , 3.6, 1.4, 0.2]]),\n",
       " array([0, 0, 0, 0, 0]))"
      ]
     },
     "execution_count": 12,
     "metadata": {},
     "output_type": "execute_result"
    }
   ],
   "source": [
    "X[:5],y[:5]"
   ]
  },
  {
   "cell_type": "code",
   "execution_count": 13,
   "metadata": {},
   "outputs": [],
   "source": [
    "X_train,X_test,y_train,y_test=train_test_split(X,y,test_size=0.2,random_state=1,stratify=y)"
   ]
  },
  {
   "cell_type": "code",
   "execution_count": 14,
   "metadata": {},
   "outputs": [
    {
     "name": "stdout",
     "output_type": "stream",
     "text": [
      "Loss :25.903745049636882\n",
      "Loss :-22.36134713545534\n",
      "Loss :-29.868272540867515\n",
      "Loss :-30.153987429643518\n",
      "Loss :-29.102652802226437\n",
      "Loss :-27.590803364939212\n",
      "Loss :-25.47041919195831\n",
      "Loss :-22.66627746395976\n",
      "Loss :-19.438880139016696\n",
      "Loss :-16.2238342324981\n",
      "Loss :-13.375093318250784\n",
      "Loss :-11.0481471412794\n",
      "Loss :-9.237790667309\n",
      "Loss :-7.863415537425871\n",
      "Loss :-6.829457193516622\n",
      "Loss :-6.05182465208329\n",
      "Loss :-5.464356913046333\n",
      "Loss :-5.017325100786538\n",
      "Loss :-4.673915624553391\n",
      "Loss :-4.406877459671524\n",
      "Loss :-4.1958927727824955\n",
      "Loss :-4.025667660259758\n",
      "Loss :-3.884595394182434\n",
      "Loss :-3.763837317570991\n",
      "Loss :-3.656692715432403\n",
      "Loss :-3.5581571361761966\n",
      "Loss :-3.4645935158780317\n",
      "Loss :-3.373463998810623\n",
      "Loss :-3.2830934513930563\n",
      "Loss :-3.1924557484441882\n",
      "Loss :-3.100986716070648\n",
      "Loss :-3.0084309160105547\n",
      "Loss :-2.914725202342294\n",
      "Loss :-2.8199151792428983\n",
      "Loss :-2.724096261247786\n",
      "Loss :-2.6273711977816947\n",
      "Loss :-2.5298195732941013\n",
      "Loss :-2.4314788889868817\n",
      "Loss :-2.3323386340594037\n",
      "Loss :-2.232347522839139\n",
      "Loss :-2.131431168225911\n",
      "Loss :-2.0295150250889806\n",
      "Loss :-1.9265468717939787\n",
      "Loss :-1.8225144390109125\n",
      "Loss :-1.7174561195609883\n",
      "Loss :-1.6114649269104973\n",
      "Loss :-1.5046873470223678\n",
      "Loss :-1.3973193035856646\n",
      "Loss :-1.2896013283137422\n",
      "Loss :-1.1818145020677526\n",
      "Loss :-1.0742780653917627\n",
      "Loss :-0.9673489389267835\n",
      "Loss :-0.8614228010797144\n",
      "Loss :-0.7569358446861698\n",
      "Loss :-0.654365869837811\n",
      "Loss :-0.554230988964411\n",
      "Loss :-0.457083998862152\n",
      "Loss :-0.3635005476061498\n",
      "Loss :-0.2740597589586943\n",
      "Loss :-0.1893171020682675\n",
      "Loss :-0.10977099406432145\n",
      "Loss :-0.03582663019242206\n",
      "Loss :0.03223769950774276\n",
      "Loss :0.09429573523927541\n",
      "Loss :0.15038445872234324\n",
      "Loss :0.20069838272380713\n",
      "Loss :0.24556733433251238\n",
      "Loss :0.2854215858043524\n",
      "Loss :0.32075052793305475\n",
      "Loss :0.3520616662641487\n",
      "Loss :0.3798455976068736\n",
      "Loss :0.4045504247134425\n",
      "Loss :0.4265666357565329\n",
      "Loss :0.4462214993986894\n",
      "Loss :0.46378084214599524\n",
      "Loss :0.47945568036812963\n",
      "Loss :0.49341136693405874\n",
      "Loss :0.5057774153908146\n",
      "Loss :0.5166567576315595\n",
      "Loss :0.5261337293228918\n",
      "Loss :0.5342804936610224\n",
      "Loss :0.5411618958470106\n",
      "Loss :0.5468389057370251\n",
      "Loss :0.5513708835006124\n",
      "Loss :0.554816921916232\n",
      "Loss :0.5572365030849988\n",
      "Loss :0.5586896742276006\n",
      "Loss :0.5592369082465393\n",
      "Loss :0.5589387766415899\n",
      "Loss :0.5578555286357606\n",
      "Loss :0.5560466423762274\n",
      "Loss :0.5535703919394414\n",
      "Loss :0.5504834570668171\n",
      "Loss :0.5468405902641065\n",
      "Loss :0.5426943472520449\n",
      "Loss :0.5380948809305625\n",
      "Loss :0.5330897953208286\n",
      "Loss :0.5277240537935858\n",
      "Loss :0.5220399348285353\n",
      "Loss :0.5160770282278692\n"
     ]
    },
    {
     "data": {
      "text/plain": [
       "<nn.NeuralNet at 0x1d7a994a450>"
      ]
     },
     "execution_count": 14,
     "metadata": {},
     "output_type": "execute_result"
    }
   ],
   "source": [
    "from nn import NeuralNet \n",
    "\n",
    "nn=NeuralNet(n_hidden=10,eta=0.01,epochs=100)\n",
    "\n",
    "nn.fit(X_train,y_train)"
   ]
  },
  {
   "cell_type": "code",
   "execution_count": 15,
   "metadata": {},
   "outputs": [
    {
     "name": "stdout",
     "output_type": "stream",
     "text": [
      "\n",
      "\n",
      "\n",
      "\n",
      "\n",
      "\n",
      "\n",
      "\n",
      "\n",
      "\n",
      "\n",
      "\n",
      "\n",
      "\n",
      "\n",
      "\n",
      "\n",
      "\n",
      "\n",
      "\n",
      "\n",
      "\n",
      "\n",
      "\n",
      "\n",
      "\n",
      "\n",
      "\n",
      "\n",
      "\n"
     ]
    },
    {
     "data": {
      "text/plain": [
       "[2,\n",
       " 0,\n",
       " 1,\n",
       " 0,\n",
       " 0,\n",
       " 0,\n",
       " 2,\n",
       " 2,\n",
       " 2,\n",
       " 1,\n",
       " 0,\n",
       " 1,\n",
       " 2,\n",
       " 1,\n",
       " 2,\n",
       " 0,\n",
       " 2,\n",
       " 1,\n",
       " 1,\n",
       " 2,\n",
       " 1,\n",
       " 1,\n",
       " 0,\n",
       " 0,\n",
       " 2,\n",
       " 2,\n",
       " 0,\n",
       " 0,\n",
       " 1,\n",
       " 1]"
      ]
     },
     "execution_count": 15,
     "metadata": {},
     "output_type": "execute_result"
    }
   ],
   "source": [
    "y_pred=nn.predict(X_test)\n",
    "y_pred"
   ]
  },
  {
   "cell_type": "code",
   "execution_count": 16,
   "metadata": {},
   "outputs": [],
   "source": [
    "def acc(y,y_pred):\n",
    "    return (np.sum(y==y_pred)/len(y))*100"
   ]
  },
  {
   "cell_type": "code",
   "execution_count": 17,
   "metadata": {},
   "outputs": [
    {
     "data": {
      "text/plain": [
       "100.0"
      ]
     },
     "execution_count": 17,
     "metadata": {},
     "output_type": "execute_result"
    }
   ],
   "source": [
    "acc(y_pred,y_test)"
   ]
  },
  {
   "cell_type": "code",
   "execution_count": 18,
   "metadata": {},
   "outputs": [],
   "source": [
    "# accuracy_score(np.array(y_pred),y_test)"
   ]
  },
  {
   "cell_type": "code",
   "execution_count": null,
   "metadata": {},
   "outputs": [],
   "source": []
  },
  {
   "cell_type": "code",
   "execution_count": null,
   "metadata": {},
   "outputs": [],
   "source": []
  },
  {
   "cell_type": "code",
   "execution_count": null,
   "metadata": {},
   "outputs": [],
   "source": []
  },
  {
   "cell_type": "code",
   "execution_count": null,
   "metadata": {},
   "outputs": [],
   "source": []
  },
  {
   "cell_type": "code",
   "execution_count": null,
   "metadata": {},
   "outputs": [],
   "source": []
  },
  {
   "cell_type": "code",
   "execution_count": null,
   "metadata": {},
   "outputs": [],
   "source": []
  },
  {
   "cell_type": "code",
   "execution_count": null,
   "metadata": {},
   "outputs": [],
   "source": []
  },
  {
   "cell_type": "code",
   "execution_count": null,
   "metadata": {},
   "outputs": [],
   "source": []
  },
  {
   "cell_type": "code",
   "execution_count": null,
   "metadata": {},
   "outputs": [],
   "source": []
  }
 ],
 "metadata": {
  "kernelspec": {
   "display_name": "base",
   "language": "python",
   "name": "python3"
  },
  "language_info": {
   "codemirror_mode": {
    "name": "ipython",
    "version": 3
   },
   "file_extension": ".py",
   "mimetype": "text/x-python",
   "name": "python",
   "nbconvert_exporter": "python",
   "pygments_lexer": "ipython3",
   "version": "3.11.4"
  }
 },
 "nbformat": 4,
 "nbformat_minor": 2
}
