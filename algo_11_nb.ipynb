{
 "cells": [
  {
   "cell_type": "code",
   "execution_count": 64,
   "metadata": {},
   "outputs": [],
   "source": [
    "import numpy as np \n",
    "import pandas as pd \n"
   ]
  },
  {
   "cell_type": "code",
   "execution_count": 65,
   "metadata": {},
   "outputs": [],
   "source": [
    "class NavieBayes:\n",
    "    def fit(self,X,y):\n",
    "        n_sample,n_features=X.shape\n",
    "\n",
    "        self.classes=np.unique(y)\n",
    "\n",
    "        n_classes=len(self.classes)\n",
    "\n",
    "        self.mean=np.zeros(shape=(n_classes,n_features))\n",
    "        self.std=np.zeros(shape=(n_classes,n_features))\n",
    "        self.prior=np.zeros(shape=(n_classes))\n",
    "\n",
    "\n",
    "        for idx,c in enumerate(self.classes):\n",
    "            X_c=X[y==c]\n",
    "\n",
    "            self.mean[idx]=X_c.mean(axis=0)\n",
    "            self.std[idx]=X_c.std(axis=0)\n",
    "            self.prior[idx]=X_c.shape[0]/n_sample  \n",
    "\n",
    "\n",
    "        return self \n",
    "    \n",
    "\n",
    "    def predict(self,X):\n",
    "        y_pred=np.array([self._predict(x) for x in X])\n",
    "\n",
    "        return y_pred \n",
    "    \n",
    "    def _predict(self,x):\n",
    "        postieror=[]\n",
    "\n",
    "        for idx,c in enumerate(self.classes):\n",
    "            prior=self.prior[idx]\n",
    "\n",
    "            prior=np.log(prior)\n",
    "\n",
    "            posti=np.log(self.pdf(idx,x))\n",
    "\n",
    "            posti=np.sum(posti)\n",
    "\n",
    "            posti+=prior\n",
    "\n",
    "            postieror.append(posti)\n",
    "\n",
    "\n",
    "        return self.classes[np.argmax(postieror)]\n",
    "    \n",
    "\n",
    "    def pdf(self,idx,x):\n",
    "        mean=self.mean[idx]\n",
    "        std=self.std[idx]\n",
    "\n",
    "        numerator=np.exp(-((x-mean)**2/(2*std)**2))\n",
    "\n",
    "        denominator=np.sqrt(2 * np.pi * std)\n",
    "\n",
    "\n",
    "        return numerator/denominator\n"
   ]
  },
  {
   "cell_type": "code",
   "execution_count": 66,
   "metadata": {},
   "outputs": [],
   "source": [
    "from sklearn.datasets import make_classification as mc \n",
    "from sklearn.model_selection import train_test_split as tts \n",
    "from sklearn.datasets import load_iris as data\n"
   ]
  },
  {
   "cell_type": "code",
   "execution_count": 67,
   "metadata": {},
   "outputs": [],
   "source": [
    "X,y=mc(n_samples=1000,n_features=10,n_classes=2,random_state=123)\n",
    "# X,y=data().data,data().target\n",
    "X_train,X_test,y_train,y_test=tts(X,y,test_size=0.2,random_state=123)\n"
   ]
  },
  {
   "cell_type": "code",
   "execution_count": 68,
   "metadata": {},
   "outputs": [],
   "source": [
    "def acc(y_pred,y):\n",
    "    return np.sum((y_pred==y))/len(y)"
   ]
  },
  {
   "cell_type": "code",
   "execution_count": 69,
   "metadata": {},
   "outputs": [
    {
     "data": {
      "text/plain": [
       "<__main__.NavieBayes at 0x1a906e29790>"
      ]
     },
     "execution_count": 69,
     "metadata": {},
     "output_type": "execute_result"
    }
   ],
   "source": [
    "model=NavieBayes()\n",
    "model.fit(X_train,y_train)"
   ]
  },
  {
   "cell_type": "code",
   "execution_count": 70,
   "metadata": {},
   "outputs": [
    {
     "data": {
      "text/plain": [
       "0.965"
      ]
     },
     "execution_count": 70,
     "metadata": {},
     "output_type": "execute_result"
    }
   ],
   "source": [
    "y_pred=model.predict(X_test)\n",
    "acc(y_pred,y_test)"
   ]
  },
  {
   "cell_type": "code",
   "execution_count": null,
   "metadata": {},
   "outputs": [],
   "source": []
  }
 ],
 "metadata": {
  "kernelspec": {
   "display_name": "base",
   "language": "python",
   "name": "python3"
  },
  "language_info": {
   "codemirror_mode": {
    "name": "ipython",
    "version": 3
   },
   "file_extension": ".py",
   "mimetype": "text/x-python",
   "name": "python",
   "nbconvert_exporter": "python",
   "pygments_lexer": "ipython3",
   "version": "3.11.4"
  }
 },
 "nbformat": 4,
 "nbformat_minor": 2
}
