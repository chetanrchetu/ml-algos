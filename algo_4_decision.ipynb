{
 "cells": [
  {
   "cell_type": "code",
   "execution_count": 80,
   "metadata": {},
   "outputs": [],
   "source": [
    "import numpy as np\n",
    "from collections import Counter\n",
    "from sklearn.datasets import load_breast_cancer as d \n",
    "from sklearn.model_selection import train_test_split as tts \n"
   ]
  },
  {
   "cell_type": "code",
   "execution_count": 81,
   "metadata": {},
   "outputs": [],
   "source": [
    "class Node:\n",
    "    def __init__(self,feature=None,threshold=None,left=None,right=None,*,value=None):\n",
    "        self.feature=feature\n",
    "        self.threshold=threshold\n",
    "        self.left=left \n",
    "        self.right=right\n",
    "        self.value=value\n",
    "        "
   ]
  },
  {
   "cell_type": "code",
   "execution_count": 82,
   "metadata": {},
   "outputs": [],
   "source": [
    "class DecisionTree:\n",
    "    def __init__(self,min_sample_split=2,max_depth=10,n_features=None):\n",
    "        self.min_sample_split=min_sample_split\n",
    "        self.max_depth=max_depth\n",
    "        self.n_features=n_features\n",
    "        self.root=None\n",
    "\n",
    "\n",
    "    \n",
    "    def fit(self,X,y):\n",
    "        self.n_features=X.shape[1] if self.n_features is None else min(self.n_features,X.shape[1])\n",
    "        \n",
    "        self.root=self.grow_tree(X,y)\n",
    "\n",
    "\n",
    "        return self \n",
    "\n",
    "\n",
    "    def grow_tree(self,X,y,depth=0):\n",
    "\n",
    "        n_sample,n_features=X.shape\n",
    "        n_labels=len(np.unique(y))\n",
    "\n",
    "        if n_sample<=self.min_sample_split or n_labels==1 or depth>=self.max_depth:\n",
    "            value=Counter(y).most_common()[0][0]\n",
    "            return Node(value=value)\n",
    "\n",
    "\n",
    "        num_features=np.random.choice(n_features,self.n_features,replace=False)\n",
    "        best_feature,best_threshold=self.best_split(X,y,num_features) \n",
    "\n",
    "\n",
    "        left_idx,right_idx=self.split(X[:,best_feature],best_threshold)\n",
    "\n",
    "        left=self.grow_tree(X[left_idx,:],y[left_idx],depth+1)\n",
    "        right=self.grow_tree(X[right_idx,:],y[right_idx],depth+1)\n",
    "\n",
    "        return Node(feature=best_feature,threshold=best_threshold,left=left,right=right)\n",
    "\n",
    "\n",
    "    def best_split(self,X,y,num_features):\n",
    "\n",
    "        best_gain=-1 \n",
    "\n",
    "        best_feature,best_threshold=None,None\n",
    "\n",
    "        for feature in num_features:\n",
    "            X_c=X[:,feature]\n",
    "\n",
    "            possible_threshold=np.unique(X_c)\n",
    "\n",
    "            for threshold in possible_threshold:\n",
    "                gain=self.information_gain(X_c,y,threshold)\n",
    "\n",
    "                if gain>best_gain:\n",
    "                    best_gain=gain\n",
    "                    best_feature=feature\n",
    "                    best_threshold=threshold\n",
    "\n",
    "\n",
    "        return best_feature,best_threshold\n",
    "\n",
    "\n",
    "\n",
    "    def information_gain(self,X_c,y,threshold):\n",
    "        parent_entropy=self.entropy(y)\n",
    "\n",
    "        left_idx,right_idx=self.split(X_c,threshold)\n",
    "\n",
    "        if len(left_idx)==0 or len(right_idx)==0:\n",
    "            return 0 \n",
    "\n",
    "\n",
    "        w_l,w_r=len(left_idx)/len(y),len(right_idx)/len(y)\n",
    "        e_l,e_r=self.entropy(y[left_idx]),self.entropy(y[right_idx])\n",
    "\n",
    "        child_entropy=(w_l*e_l)+(w_r*e_r)\n",
    "\n",
    "        information_gain=parent_entropy-child_entropy \n",
    "\n",
    "        return information_gain \n",
    "\n",
    "    def entropy(self,y):\n",
    "        clss=np.bincount(y)\n",
    "\n",
    "        clss=clss/len(y)\n",
    "\n",
    "        return -np.sum([p*np.log(p) for p in clss if p>0])\n",
    "\n",
    "\n",
    "\n",
    "    def split(self,X_c,threshold):\n",
    "        left=np.argwhere(X_c<=threshold).flatten()\n",
    "        right=np.argwhere(X_c>threshold).flatten()\n",
    "\n",
    "\n",
    "        return left,right\n",
    "    \n",
    "\n",
    "\n",
    "    def predict(self,X):\n",
    "        y_pred=np.array([self.traverse(self.root,x) for x in X])\n",
    "        return y_pred\n",
    "    \n",
    "\n",
    "    def traverse(self,node,x):\n",
    "        \n",
    "        if node.value is not None:\n",
    "            return node.value\n",
    "        \n",
    "\n",
    "\n",
    "        if x[node.feature]<=node.threshold:\n",
    "            return self.traverse(node.left,x)\n",
    "        \n",
    "        return self.traverse(node.right,x)"
   ]
  },
  {
   "cell_type": "code",
   "execution_count": 83,
   "metadata": {},
   "outputs": [],
   "source": [
    "\n",
    "X,y=d().data,d().target\n",
    "X_train,X_test,y_train,y_test=tts(X,y,test_size=0.2,random_state=1234)\n"
   ]
  },
  {
   "cell_type": "code",
   "execution_count": 84,
   "metadata": {},
   "outputs": [
    {
     "data": {
      "text/plain": [
       "<__main__.DecisionTree at 0x18b8d54e1d0>"
      ]
     },
     "execution_count": 84,
     "metadata": {},
     "output_type": "execute_result"
    }
   ],
   "source": [
    "model=DecisionTree(max_depth=10,min_sample_split=2)\n",
    "model.fit(X_train,y_train)"
   ]
  },
  {
   "cell_type": "code",
   "execution_count": 85,
   "metadata": {},
   "outputs": [
    {
     "data": {
      "text/plain": [
       "92.10526315789474"
      ]
     },
     "execution_count": 85,
     "metadata": {},
     "output_type": "execute_result"
    }
   ],
   "source": [
    "def acc(y_p,y):\n",
    "    return np.sum(y_p==y)/len(y)\n",
    "\n",
    "\n",
    "\n",
    "y_pred=model.predict(X_test)\n",
    "acc(y_pred,y_test)*100\n"
   ]
  },
  {
   "cell_type": "code",
   "execution_count": 86,
   "metadata": {},
   "outputs": [],
   "source": [
    "# y1=np.full(shape=(10,1),fill_value=(0))\n",
    "# y2=np.full(shape=(10,1),fill_value=(1))\n",
    "# y=np.row_stack([y1,y2],)\n",
    "# np.random.shuffle(y)\n"
   ]
  },
  {
   "cell_type": "code",
   "execution_count": null,
   "metadata": {},
   "outputs": [],
   "source": []
  },
  {
   "cell_type": "code",
   "execution_count": 87,
   "metadata": {},
   "outputs": [],
   "source": [
    "# model._entropy(y.ravel()).round(2)\n",
    "# y=y.ravel()"
   ]
  },
  {
   "cell_type": "code",
   "execution_count": 88,
   "metadata": {},
   "outputs": [],
   "source": [
    "# y_l,y_r=y[:10],y[:10]\n",
    "# y_r.shape,y_r.shape"
   ]
  },
  {
   "cell_type": "code",
   "execution_count": 89,
   "metadata": {},
   "outputs": [],
   "source": [
    "# model._entropy(y_r).round(2),model._entropy(y_l).round(2)"
   ]
  },
  {
   "cell_type": "code",
   "execution_count": 90,
   "metadata": {},
   "outputs": [
    {
     "data": {
      "text/plain": [
       "array([10, 10], dtype=int64)"
      ]
     },
     "execution_count": 90,
     "metadata": {},
     "output_type": "execute_result"
    }
   ],
   "source": [
    "combine=np.row_stack((np.zeros(shape=(10,)),np.ones(shape=(10,)))).astype(np.int64)\n",
    "combine=combine.flatten()\n",
    "np.bincount(combine)"
   ]
  },
  {
   "cell_type": "code",
   "execution_count": null,
   "metadata": {},
   "outputs": [],
   "source": [
    "\n"
   ]
  }
 ],
 "metadata": {
  "kernelspec": {
   "display_name": "Python 3",
   "language": "python",
   "name": "python3"
  },
  "language_info": {
   "codemirror_mode": {
    "name": "ipython",
    "version": 3
   },
   "file_extension": ".py",
   "mimetype": "text/x-python",
   "name": "python",
   "nbconvert_exporter": "python",
   "pygments_lexer": "ipython3",
   "version": "3.11.4"
  },
  "orig_nbformat": 4
 },
 "nbformat": 4,
 "nbformat_minor": 2
}
