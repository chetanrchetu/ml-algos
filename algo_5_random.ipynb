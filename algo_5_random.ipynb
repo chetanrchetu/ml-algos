{
 "cells": [
  {
   "cell_type": "code",
   "execution_count": 24,
   "metadata": {},
   "outputs": [],
   "source": [
    "from decisiontree import DecisionTree\n",
    "import numpy as np\n",
    "from collections import Counter\n",
    "from sklearn.datasets import load_breast_cancer as d \n",
    "from sklearn.model_selection import train_test_split"
   ]
  },
  {
   "cell_type": "code",
   "execution_count": 25,
   "metadata": {},
   "outputs": [],
   "source": [
    "class RandomForest:\n",
    "    def __init__(self,n_tree=3,min_sample_split=2,max_depth=10,n_features=None):\n",
    "        self.n_tree=n_tree \n",
    "        self.min_sample_split=min_sample_split \n",
    "        self.max_depth=max_depth \n",
    "        self.n_features=n_features\n",
    "        self.trees=[]\n",
    "\n",
    "\n",
    "    def fit(self,X,y):\n",
    "        n_sample,n_feature=X.shape\n",
    "\n",
    "        for _ in range(self.n_tree):\n",
    "            tree=DecisionTree(min_sample_split=self.min_sample_split,\n",
    "                              max_depth=self.max_depth,n_features=self.n_features)\n",
    "            \n",
    "            X_sample,y_sample=self.sample_data(X,y)\n",
    "\n",
    "            tree.fit(X_sample,y_sample)\n",
    "\n",
    "            self.trees.append(tree)\n",
    "\n",
    "            return self\n",
    "\n",
    "    def sample_data(self,X,y):\n",
    "        n_sample=X.shape[0]\n",
    "\n",
    "        index=np.random.choice(n_sample,n_sample)\n",
    "\n",
    "        return X[index],y[index]\n",
    "    \n",
    "\n",
    "    def predict(self,X):\n",
    "        pred=np.array([tree.predict(X) for tree in self.trees])\n",
    "\n",
    "        # pred=np.swapaxes(pred,0,1)\n",
    "        pred=pred.T \n",
    "\n",
    "        y_pred=np.array([Counter(row).most_common()[0][0] for row in pred])\n",
    "\n",
    "        return y_pred"
   ]
  },
  {
   "cell_type": "code",
   "execution_count": null,
   "metadata": {},
   "outputs": [],
   "source": [
    "    "
   ]
  },
  {
   "cell_type": "code",
   "execution_count": 26,
   "metadata": {},
   "outputs": [],
   "source": [
    "X,y=d().data,d().target\n",
    "X_train,X_test,y_train,y_test=train_test_split(X,y,test_size=0.2,random_state=1234)"
   ]
  },
  {
   "cell_type": "code",
   "execution_count": 27,
   "metadata": {},
   "outputs": [
    {
     "data": {
      "text/plain": [
       "<__main__.RandomForest at 0x202e1151150>"
      ]
     },
     "execution_count": 27,
     "metadata": {},
     "output_type": "execute_result"
    }
   ],
   "source": [
    "model=RandomForest(n_tree=5,max_depth=5)\n",
    "model.fit(X_train,y_train)"
   ]
  },
  {
   "cell_type": "code",
   "execution_count": 28,
   "metadata": {},
   "outputs": [],
   "source": [
    "def acc(y_,y):\n",
    "    return np.sum(y_==y)/len(y)"
   ]
  },
  {
   "cell_type": "code",
   "execution_count": 29,
   "metadata": {},
   "outputs": [
    {
     "data": {
      "text/plain": [
       "92.10526315789474"
      ]
     },
     "execution_count": 29,
     "metadata": {},
     "output_type": "execute_result"
    }
   ],
   "source": [
    "y_pred=model.predict(X_test)\n",
    "acc(y_pred,y_test)*100"
   ]
  },
  {
   "cell_type": "code",
   "execution_count": null,
   "metadata": {},
   "outputs": [],
   "source": []
  },
  {
   "cell_type": "code",
   "execution_count": null,
   "metadata": {},
   "outputs": [],
   "source": []
  }
 ],
 "metadata": {
  "kernelspec": {
   "display_name": "Python 3",
   "language": "python",
   "name": "python3"
  },
  "language_info": {
   "codemirror_mode": {
    "name": "ipython",
    "version": 3
   },
   "file_extension": ".py",
   "mimetype": "text/x-python",
   "name": "python",
   "nbconvert_exporter": "python",
   "pygments_lexer": "ipython3",
   "version": "3.11.4"
  },
  "orig_nbformat": 4
 },
 "nbformat": 4,
 "nbformat_minor": 2
}
