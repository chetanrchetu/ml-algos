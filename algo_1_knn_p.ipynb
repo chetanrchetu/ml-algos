{
 "cells": [
  {
   "cell_type": "code",
   "execution_count": 17,
   "metadata": {},
   "outputs": [],
   "source": [
    "import numpy as np\n",
    "from collections import Counter\n",
    "from sklearn.datasets import load_iris as data \n",
    "from sklearn.model_selection import train_test_split as tts "
   ]
  },
  {
   "cell_type": "code",
   "execution_count": 18,
   "metadata": {},
   "outputs": [],
   "source": [
    "def euclid_distance(p,q):\n",
    "    return np.sqrt(np.sum((p-q)**2))"
   ]
  },
  {
   "cell_type": "code",
   "execution_count": 19,
   "metadata": {},
   "outputs": [],
   "source": [
    "class Knn:\n",
    "    def __init__(self,k=3):\n",
    "        self.k=k \n",
    "\n",
    "    def fit(self,X,y):\n",
    "        self.X_train=X \n",
    "        self.y_train=y \n",
    "\n",
    "\n",
    "    def predict(self,X):\n",
    "        y_pred=[]\n",
    "        for x in X:\n",
    "            calculated_distance=[euclid_distance(x,x_train) for x_train in self.X_train]\n",
    "\n",
    "            k_nearest_point=np.argsort(calculated_distance)[:self.k]\n",
    "\n",
    "            k_nearest_value=self.y_train[k_nearest_point]\n",
    "\n",
    "            pred=Counter(k_nearest_value).most_common()[0][0]\n",
    "\n",
    "            y_pred.append(pred)\n",
    "        \n",
    "        return y_pred"
   ]
  },
  {
   "cell_type": "code",
   "execution_count": 20,
   "metadata": {},
   "outputs": [],
   "source": [
    "X,y=data().data,data().target\n",
    "X_train,X_test,y_train,y_test=tts(X,y,test_size=0.2,random_state=123)\n",
    "\n"
   ]
  },
  {
   "cell_type": "code",
   "execution_count": 21,
   "metadata": {},
   "outputs": [],
   "source": [
    "model=Knn(k=5)\n",
    "model.fit(X_train,y_train)"
   ]
  },
  {
   "cell_type": "code",
   "execution_count": 22,
   "metadata": {},
   "outputs": [],
   "source": [
    "def accuracy(y_p,y):\n",
    "    return np.sum(y_p==y)/len(y)"
   ]
  },
  {
   "cell_type": "code",
   "execution_count": 23,
   "metadata": {},
   "outputs": [
    {
     "data": {
      "text/plain": [
       "0.9666666666666667"
      ]
     },
     "execution_count": 23,
     "metadata": {},
     "output_type": "execute_result"
    }
   ],
   "source": [
    "y_pred=model.predict(X_test)\n",
    "\n",
    "accuracy(y_pred,y_test)\n",
    "# y_pred"
   ]
  },
  {
   "cell_type": "code",
   "execution_count": null,
   "metadata": {},
   "outputs": [],
   "source": [
    "\n"
   ]
  },
  {
   "cell_type": "code",
   "execution_count": null,
   "metadata": {},
   "outputs": [],
   "source": []
  }
 ],
 "metadata": {
  "kernelspec": {
   "display_name": "Python 3",
   "language": "python",
   "name": "python3"
  },
  "language_info": {
   "codemirror_mode": {
    "name": "ipython",
    "version": 3
   },
   "file_extension": ".py",
   "mimetype": "text/x-python",
   "name": "python",
   "nbconvert_exporter": "python",
   "pygments_lexer": "ipython3",
   "version": "3.11.4"
  },
  "orig_nbformat": 4
 },
 "nbformat": 4,
 "nbformat_minor": 2
}
